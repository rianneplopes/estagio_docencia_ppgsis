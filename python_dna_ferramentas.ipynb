{
  "nbformat": 4,
  "nbformat_minor": 0,
  "metadata": {
    "colab": {
      "provenance": [],
      "collapsed_sections": [
        "H3UQ8hiUspS8",
        "XgDjLxhGtXxz",
        "9uwBlsxG6yAO",
        "fTZw6sEM-DcH",
        "s-JrAzVF_c7i",
        "teGkma9eCLgq"
      ],
      "authorship_tag": "ABX9TyNHB4zzwbnCg6bSiZY7CSjT",
      "include_colab_link": true
    },
    "kernelspec": {
      "name": "python3",
      "display_name": "Python 3"
    },
    "language_info": {
      "name": "python"
    }
  },
  "cells": [
    {
      "cell_type": "markdown",
      "metadata": {
        "id": "view-in-github",
        "colab_type": "text"
      },
      "source": [
        "<a href=\"https://colab.research.google.com/github/rplop/estagio_docencia_ppgsis/blob/main/python_dna_ferramentas.ipynb\" target=\"_parent\"><img src=\"https://colab.research.google.com/assets/colab-badge.svg\" alt=\"Open In Colab\"/></a>"
      ]
    },
    {
      "cell_type": "markdown",
      "source": [
        "# Kit de ferramentas de DNA\n",
        "\n",
        "_Como podemos representar a estrutura do DNA em um **código**?_\n",
        "\n",
        "Vamos criar um conjunto de **funções** para realizar operações básicas em sequências de DNA.\n",
        "\n",
        "Esta é uma *introdução* de como podemos montar um **aparato básico de ferramentas** que possam auxiliar a desenvolver algoritmos mais complexos posteriormente."
      ],
      "metadata": {
        "id": "h3sRk8MZsWcO"
      }
    },
    {
      "cell_type": "markdown",
      "source": [
        "## Definir a estrutura básica"
      ],
      "metadata": {
        "id": "H3UQ8hiUspS8"
      }
    },
    {
      "cell_type": "code",
      "source": [
        "nucleotideos = [\"A\",\"T\",\"C\",\"G\"]\n",
        "\n",
        "complementares = {\"A\":\"T\",\n",
        "              \"T\":\"A\",\n",
        "              \"C\":\"G\",\n",
        "              \"G\":\"C\"}"
      ],
      "metadata": {
        "id": "Hfdqut8-tMCx"
      },
      "execution_count": 885,
      "outputs": []
    },
    {
      "cell_type": "markdown",
      "source": [
        "## Gerar sequência\n",
        "\n",
        "O seguinte código gera uma sequência aleatória de DNA a cada vez que é executado.\n",
        "\n",
        "Este código é um pouco complexo para o nível em que estamos agora.\n",
        "\n",
        "Então não é necessário que compreendamos todas as suas etapas perfeitamente, apenas que saibamos o seu **objetivo final: gerar uma sequência de DNA aleatória**."
      ],
      "metadata": {
        "id": "XgDjLxhGtXxz"
      }
    },
    {
      "cell_type": "code",
      "source": [
        "# Criando uma sequência de DNA aleatoriamente\n",
        "\n",
        "import random                                       # importa a biblioteca random\n",
        "dnaSeq_aleatoria=[]                                 # cria uma lista vazia chamada dnaSeq_aleatoria\n",
        "for i in range (0,30):                              # cria um loop que será executado 30x\n",
        "    nuc_aleatorio=random.choice(nucleotideos)       # escolhe um nucleotídeo aleatoriamente na nossa lista de nucleotídeos\n",
        "    dnaSeq_aleatoria.append(nuc_aleatorio)          # adiciona esse nucleotídeo à lista dnaSeq_aleatoria\n",
        "dnaSeq_aleatoria=\"\".join(dnaSeq_aleatoria)          # junta todos os itens da lista transformando-os em uma string\n",
        "print(dnaSeq_aleatoria)                             # exibe essa string na tela"
      ],
      "metadata": {
        "colab": {
          "base_uri": "https://localhost:8080/"
        },
        "id": "ixrQWzTytXFV",
        "outputId": "f94c3c85-2db4-4aba-8052-3fb706cde263"
      },
      "execution_count": 886,
      "outputs": [
        {
          "output_type": "stream",
          "name": "stdout",
          "text": [
            "CCCGAACGTCTATCTACTGGAGGTTTCGGG\n"
          ]
        }
      ]
    },
    {
      "cell_type": "markdown",
      "source": [
        "## Funções\n",
        "\n",
        "Funções são sequências de instruções ou comandos **reutilizáveis**.\n",
        "\n",
        "Elas podem ser chamadas a qualquer momento durante a execução do programa de maneira **independente**.\n",
        "\n",
        "O Python tem **funções nativas**, como `print()` e `type()`, que já aprendemos aqui.\n",
        "\n",
        "Mas nós também podemos *criar nossas próprias funções*.\n",
        "\n",
        "Então, agora vamos criar funções para fazer manipulações simples com sequências de DNA.\n",
        "\n",
        "A **sintaxe** básica da função é a seguinte:\n",
        "\n",
        "```py\n",
        "def nome(parametros):\n",
        "  comandos\n",
        "  return\n",
        "```"
      ],
      "metadata": {
        "id": "4XbKmgnwhBNA"
      }
    },
    {
      "cell_type": "markdown",
      "source": [
        "## Checar sequência\n",
        "Vamos criar uma função que valide a sequência de DNA."
      ],
      "metadata": {
        "id": "9uwBlsxG6yAO"
      }
    },
    {
      "cell_type": "code",
      "source": [
        "def checarSeq(dnaSeq):\n",
        "\n",
        "  dnaSeq = dnaSeq.upper()\n",
        "  for nuc in dnaSeq:\n",
        "    if nuc not in nucleotideos:\n",
        "      return False\n",
        "\n",
        "  return dnaSeq"
      ],
      "metadata": {
        "id": "CMQTB8YY6xT_"
      },
      "execution_count": 887,
      "outputs": []
    },
    {
      "cell_type": "code",
      "source": [
        "# Testando se funciona\n",
        "seqTeste = \"GTCtCfCcgacTC\"\n",
        "checarSeq(seqTeste)"
      ],
      "metadata": {
        "colab": {
          "base_uri": "https://localhost:8080/"
        },
        "id": "tgMIBE839ETj",
        "outputId": "9bc2cdbe-ae54-42bc-e3f3-64da22096302"
      },
      "execution_count": 888,
      "outputs": [
        {
          "output_type": "execute_result",
          "data": {
            "text/plain": [
              "False"
            ]
          },
          "metadata": {},
          "execution_count": 888
        }
      ]
    },
    {
      "cell_type": "code",
      "source": [
        "# Agora, aplicando na nossa sequência aleatória\n",
        "checarSeq(dnaSeq_aleatoria)"
      ],
      "metadata": {
        "colab": {
          "base_uri": "https://localhost:8080/",
          "height": 35
        },
        "id": "JRGbjnsd9xet",
        "outputId": "06030c0a-1bba-4115-cd15-1bbcdf320e99"
      },
      "execution_count": 889,
      "outputs": [
        {
          "output_type": "execute_result",
          "data": {
            "text/plain": [
              "'CCCGAACGTCTATCTACTGGAGGTTTCGGG'"
            ],
            "application/vnd.google.colaboratory.intrinsic+json": {
              "type": "string"
            }
          },
          "metadata": {},
          "execution_count": 889
        }
      ]
    },
    {
      "cell_type": "markdown",
      "source": [
        "## Contar nucleotídeos\n",
        "\n",
        "Vamos criar uma função que conte quantas vezes cada nucleotídeo aparece na nossa sequência de DNA."
      ],
      "metadata": {
        "id": "fTZw6sEM-DcH"
      }
    },
    {
      "cell_type": "code",
      "source": [
        "def contarNuc(dnaSeq):\n",
        "\n",
        "    nucFreq={\"A\":0,\n",
        "             \"C\":0,\n",
        "             \"T\":0,\n",
        "             \"G\":0}\n",
        "\n",
        "    for nuc in dnaSeq:\n",
        "        nucFreq[nuc] += 1\n",
        "\n",
        "    return nucFreq"
      ],
      "metadata": {
        "id": "ogijr1aU-LKZ"
      },
      "execution_count": 890,
      "outputs": []
    },
    {
      "cell_type": "code",
      "source": [
        "# Testando se funciona com a nossa sequência validada\n",
        "\n",
        "dnaSeq=checarSeq(dnaSeq_aleatoria) # 1º passo: validar a sequêcia\n",
        "contarNuc(dnaSeq)"
      ],
      "metadata": {
        "colab": {
          "base_uri": "https://localhost:8080/"
        },
        "id": "R9KGdFwV-ZTu",
        "outputId": "9504504e-eba7-4f32-c133-dabc66659e6f"
      },
      "execution_count": 891,
      "outputs": [
        {
          "output_type": "execute_result",
          "data": {
            "text/plain": [
              "{'A': 5, 'C': 8, 'T': 8, 'G': 9}"
            ]
          },
          "metadata": {},
          "execution_count": 891
        }
      ]
    },
    {
      "cell_type": "markdown",
      "source": [
        "## Transcrição\n",
        "\n",
        "Vamos criar uma função que realize a transcrição (DNA -> RNA).\n",
        "\n",
        "**O que acontece na transcrição que deve estar escrito no nosso código?**"
      ],
      "metadata": {
        "id": "s-JrAzVF_c7i"
      }
    },
    {
      "cell_type": "code",
      "source": [
        "# Complete aqui\n",
        "\n",
        "def transcricao(dnaSeq):\n",
        "\n",
        "  rnaSeq = dnaSeq.replace()\n",
        "\n",
        "  return rnaSeq"
      ],
      "metadata": {
        "id": "skJ8X24o_lAL"
      },
      "execution_count": 892,
      "outputs": []
    },
    {
      "cell_type": "code",
      "source": [
        "# Testando se funciona\n",
        "print(dnaSeq)\n",
        "print(transcricao(dnaSeq))"
      ],
      "metadata": {
        "colab": {
          "base_uri": "https://localhost:8080/"
        },
        "id": "FBmVxp4WCcMq",
        "outputId": "e78ba46e-60ba-4daa-e8da-12c5ca3c2ceb"
      },
      "execution_count": 893,
      "outputs": [
        {
          "output_type": "stream",
          "name": "stdout",
          "text": [
            "CCCGAACGTCTATCTACTGGAGGTTTCGGG\n",
            "CCCGAACGUCUAUCUACUGGAGGUUUCGGG\n"
          ]
        }
      ]
    },
    {
      "cell_type": "markdown",
      "source": [
        "## Reverso complementar\n",
        "\n",
        "**O que é o reverso complementar?**\n",
        "\n",
        "**Por que essa informação é útil?**"
      ],
      "metadata": {
        "id": "3lUUmkhbAf4b"
      }
    },
    {
      "cell_type": "code",
      "source": [
        "def reverso_complementar(dnaSeq):\n",
        "\n",
        "    dnaSeq_complementar = \"\"\n",
        "\n",
        "    for nuc in dnaSeq:\n",
        "        complemento = complementares[nuc]\n",
        "        dnaSeq_complementar += complemento\n",
        "\n",
        "    dnaSeq_complementar_rev = dnaSeq_complementar[::-1]\n",
        "\n",
        "    return dnaSeq_complementar_rev"
      ],
      "metadata": {
        "id": "knVRZ7yNJOp-"
      },
      "execution_count": 894,
      "outputs": []
    },
    {
      "cell_type": "code",
      "source": [
        "# Testando se funciona\n",
        "print(reverso_complementar(\"CGATGG\"))"
      ],
      "metadata": {
        "colab": {
          "base_uri": "https://localhost:8080/"
        },
        "id": "qPasBDvtMKbt",
        "outputId": "49e555de-18ec-4bd9-cf5f-3faeb815ef24"
      },
      "execution_count": 895,
      "outputs": [
        {
          "output_type": "stream",
          "name": "stdout",
          "text": [
            "CCATCG\n"
          ]
        }
      ]
    },
    {
      "cell_type": "code",
      "source": [
        "# Testando na nossa sequência de DNA\n",
        "print(f\"\\n5' {dnaSeq} 3'\")\n",
        "print(\" \"*3+\"|\"*len(dnaSeq))\n",
        "print(f\"3' {reverso_complementar(dnaSeq)[::-1]} 5'[Complemento]\")\n",
        "print(f\"5' {reverso_complementar(dnaSeq)} 3'[Reverso complementar]\\n\")"
      ],
      "metadata": {
        "colab": {
          "base_uri": "https://localhost:8080/"
        },
        "id": "wWvlMS7ECT5H",
        "outputId": "77083720-e5f8-4110-aaa9-f87f0a8ba00c"
      },
      "execution_count": 896,
      "outputs": [
        {
          "output_type": "stream",
          "name": "stdout",
          "text": [
            "\n",
            "5' CCCGAACGTCTATCTACTGGAGGTTTCGGG 3'\n",
            "   ||||||||||||||||||||||||||||||\n",
            "3' GGGCTTGCAGATAGATGACCTCCAAAGCCC 5'[Complemento]\n",
            "5' CCCGAAACCTCCAGTAGATAGACGTTCGGG 3'[Reverso complementar]\n",
            "\n"
          ]
        }
      ]
    },
    {
      "cell_type": "markdown",
      "source": [
        "## Cálculo do conteúdo CG\n",
        "\n",
        "**Qual a importância do conteúdo CG em uma sequência?**"
      ],
      "metadata": {
        "id": "ms-F1DW0NqYJ"
      }
    },
    {
      "cell_type": "code",
      "source": [
        "def conteudoCG(dnaSeq):\n",
        "    numC = round(dnaSeq.count(\"C\"))\n",
        "    numG = round(dnaSeq.count(\"G\"))\n",
        "    tamanhoSeq = len(dnaSeq)\n",
        "    freqCG= round((numC + numG) / tamanhoSeq * 100)\n",
        "    return freqCG"
      ],
      "metadata": {
        "id": "jZPxWH8lNywW"
      },
      "execution_count": 897,
      "outputs": []
    },
    {
      "cell_type": "code",
      "source": [
        "# Testando se funciona\n",
        "conteudoCG(\"ATCG\")"
      ],
      "metadata": {
        "colab": {
          "base_uri": "https://localhost:8080/"
        },
        "id": "LUUx0XEZN1v9",
        "outputId": "288a8147-5389-4df5-9289-cf3958a60015"
      },
      "execution_count": 898,
      "outputs": [
        {
          "output_type": "execute_result",
          "data": {
            "text/plain": [
              "50"
            ]
          },
          "metadata": {},
          "execution_count": 898
        }
      ]
    },
    {
      "cell_type": "code",
      "source": [
        "# Testando na nossa sequência de DNA\n",
        "print(dnaSeq)\n",
        "conteudoCG(dnaSeq)"
      ],
      "metadata": {
        "colab": {
          "base_uri": "https://localhost:8080/"
        },
        "id": "FwTAvPLEOsS0",
        "outputId": "90042d16-2c7f-4923-fb06-19187c935c94"
      },
      "execution_count": 899,
      "outputs": [
        {
          "output_type": "stream",
          "name": "stdout",
          "text": [
            "CCCGAACGTCTATCTACTGGAGGTTTCGGG\n"
          ]
        },
        {
          "output_type": "execute_result",
          "data": {
            "text/plain": [
              "57"
            ]
          },
          "metadata": {},
          "execution_count": 899
        }
      ]
    },
    {
      "cell_type": "markdown",
      "source": [
        "## Tradução"
      ],
      "metadata": {
        "id": "eB6zw43a9A6U"
      }
    },
    {
      "cell_type": "code",
      "source": [
        "DNA_codons = {\n",
        "    # 'M' - START, '_' - STOP\n",
        "    \"GCT\": \"A\", \"GCC\": \"A\", \"GCA\": \"A\", \"GCG\": \"A\",\n",
        "    \"TGT\": \"C\", \"TGC\": \"C\",\n",
        "    \"GAT\": \"D\", \"GAC\": \"D\",\n",
        "    \"GAA\": \"E\", \"GAG\": \"E\",\n",
        "    \"TTT\": \"F\", \"TTC\": \"F\",\n",
        "    \"GGT\": \"G\", \"GGC\": \"G\", \"GGA\": \"G\", \"GGG\": \"G\",\n",
        "    \"CAT\": \"H\", \"CAC\": \"H\",\n",
        "    \"ATA\": \"I\", \"ATT\": \"I\", \"ATC\": \"I\",\n",
        "    \"AAA\": \"K\", \"AAG\": \"K\",\n",
        "    \"TTA\": \"L\", \"TTG\": \"L\", \"CTT\": \"L\", \"CTC\": \"L\", \"CTA\": \"L\", \"CTG\": \"L\",\n",
        "    \"ATG\": \"M\",\n",
        "    \"AAT\": \"N\", \"AAC\": \"N\",\n",
        "    \"CCT\": \"P\", \"CCC\": \"P\", \"CCA\": \"P\", \"CCG\": \"P\",\n",
        "    \"CAA\": \"Q\", \"CAG\": \"Q\",\n",
        "    \"CGT\": \"R\", \"CGC\": \"R\", \"CGA\": \"R\", \"CGG\": \"R\", \"AGA\": \"R\", \"AGG\": \"R\",\n",
        "    \"TCT\": \"S\", \"TCC\": \"S\", \"TCA\": \"S\", \"TCG\": \"S\", \"AGT\": \"S\", \"AGC\": \"S\",\n",
        "    \"ACT\": \"T\", \"ACC\": \"T\", \"ACA\": \"T\", \"ACG\": \"T\",\n",
        "    \"GTT\": \"V\", \"GTC\": \"V\", \"GTA\": \"V\", \"GTG\": \"V\",\n",
        "    \"TGG\": \"W\",\n",
        "    \"TAT\": \"Y\", \"TAC\": \"Y\",\n",
        "    \"TAA\": \"_\", \"TAG\": \"_\", \"TGA\": \"_\"\n",
        "}\n",
        "RNA_codons = {\n",
        "    # 'M' - START, '_' - STOP\n",
        "    \"GCU\": \"A\", \"GCC\": \"A\", \"GCA\": \"A\", \"GCG\": \"A\",\n",
        "    \"UGU\": \"C\", \"UGC\": \"C\",\n",
        "    \"GAU\": \"D\", \"GAC\": \"D\",\n",
        "    \"GAA\": \"E\", \"GAG\": \"E\",\n",
        "    \"UUU\": \"F\", \"UUC\": \"F\",\n",
        "    \"GGU\": \"G\", \"GGC\": \"G\", \"GGA\": \"G\", \"GGG\": \"G\",\n",
        "    \"CAU\": \"H\", \"CAC\": \"H\",\n",
        "    \"AUA\": \"I\", \"AUU\": \"I\", \"AUC\": \"I\",\n",
        "    \"AAA\": \"K\", \"AAG\": \"K\",\n",
        "    \"UUA\": \"L\", \"UUG\": \"L\", \"CUU\": \"L\", \"CUC\": \"L\", \"CUA\": \"L\", \"CUG\": \"L\",\n",
        "    \"AUG\": \"M\",\n",
        "    \"AAU\": \"N\", \"AAC\": \"N\",\n",
        "    \"CCU\": \"P\", \"CCC\": \"P\", \"CCA\": \"P\", \"CCG\": \"P\",\n",
        "    \"CAA\": \"Q\", \"CAG\": \"Q\",\n",
        "    \"CGU\": \"R\", \"CGC\": \"R\", \"CGA\": \"R\", \"CGG\": \"R\", \"AGA\": \"R\", \"AGG\": \"R\",\n",
        "    \"UCU\": \"S\", \"UCC\": \"S\", \"UCA\": \"S\", \"UCG\": \"S\", \"AGU\": \"S\", \"AGC\": \"S\",\n",
        "    \"ACU\": \"T\", \"ACC\": \"T\", \"ACA\": \"T\", \"ACG\": \"T\",\n",
        "    \"GUU\": \"V\", \"GUC\": \"V\", \"GUA\": \"V\", \"GUG\": \"V\",\n",
        "    \"UGG\": \"W\",\n",
        "    \"UAU\": \"Y\", \"UAC\": \"Y\",\n",
        "    \"UAA\": \"_\", \"UAG\": \"_\", \"UGA\": \"_\"\n",
        "}\n"
      ],
      "metadata": {
        "id": "ZKP28-VS9bA4"
      },
      "execution_count": 900,
      "outputs": []
    },
    {
      "cell_type": "code",
      "source": [
        "def traducao(dnaSeq):\n",
        "\n",
        "  rnaSeq = dnaSeq.replace(\"T\",\"U\")\n",
        "\n",
        "  ptnSeq = \"\"\n",
        "\n",
        "  for i in range(0, len(rnaSeq)-2, 3):\n",
        "        codon = rnaSeq[i:i+3]\n",
        "        aminoacido = RNA_codons.get(codon,\"~\")\n",
        "        ptnSeq += aminoacido\n",
        "\n",
        "  return ptnSeq"
      ],
      "metadata": {
        "id": "CM5TUbawDOf3"
      },
      "execution_count": 901,
      "outputs": []
    },
    {
      "cell_type": "code",
      "source": [
        "# Testando se funciona\n",
        "print(traducao(dnaSeq))"
      ],
      "metadata": {
        "colab": {
          "base_uri": "https://localhost:8080/"
        },
        "id": "ROKCiu-x-Hrk",
        "outputId": "f1b391a3-f648-4aac-ca00-2b830421e6e2"
      },
      "execution_count": 902,
      "outputs": [
        {
          "output_type": "stream",
          "name": "stdout",
          "text": [
            "PERLSTGGFG\n"
          ]
        }
      ]
    },
    {
      "cell_type": "markdown",
      "source": [
        "# Teste final"
      ],
      "metadata": {
        "id": "teGkma9eCLgq"
      }
    },
    {
      "cell_type": "code",
      "source": [
        "print(f\"\\n(1) Sequência original: {dnaSeq}\\n\")\n",
        "print(f\"\\n(2) Tamanho da sequência: {len(dnaSeq)}\\n\")\n",
        "print(f\"\\n(3) Frequência dos nucleotídeos: {contarNuc(dnaSeq)}\\n\")\n",
        "print(f\"\\n(4) Transcrição DNA->RNA: {transcricao(dnaSeq)}\\n\")\n",
        "print(f\"\\n(5) Reverso complementar: {reverso_complementar(dnaSeq)}\\n\")\n",
        "print(f\"\\n(6) Conteúdo CG: {conteudoCG(dnaSeq)}%\\n\")\n",
        "print(f\"\\n(7) Sequência protéica: {traducao(dnaSeq)} \")"
      ],
      "metadata": {
        "colab": {
          "base_uri": "https://localhost:8080/"
        },
        "id": "TsEi03GcB5Mg",
        "outputId": "190a4fd8-c56a-424d-cf4b-5af545d6438c"
      },
      "execution_count": 903,
      "outputs": [
        {
          "output_type": "stream",
          "name": "stdout",
          "text": [
            "\n",
            "(1) Sequência original: CCCGAACGTCTATCTACTGGAGGTTTCGGG\n",
            "\n",
            "\n",
            "(2) Tamanho da sequência: 30\n",
            "\n",
            "\n",
            "(3) Frequência dos nucleotídeos: {'A': 5, 'C': 8, 'T': 8, 'G': 9}\n",
            "\n",
            "\n",
            "(4) Transcrição DNA->RNA: CCCGAACGUCUAUCUACUGGAGGUUUCGGG\n",
            "\n",
            "\n",
            "(5) Reverso complementar: CCCGAAACCTCCAGTAGATAGACGTTCGGG\n",
            "\n",
            "\n",
            "(6) Conteúdo CG: 57%\n",
            "\n",
            "\n",
            "(7) Sequência protéica: PERLSTGGFG \n"
          ]
        }
      ]
    }
  ]
}
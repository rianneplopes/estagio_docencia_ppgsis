{
  "nbformat": 4,
  "nbformat_minor": 0,
  "metadata": {
    "colab": {
      "provenance": [],
      "collapsed_sections": [
        "G3l903rWIHJ4",
        "o2IEan7Bt4rL",
        "pgVLfNeRU_3f",
        "11ppK6FgZNWw"
      ],
      "authorship_tag": "ABX9TyPurDySOX6OCyWDCJARXcrj",
      "include_colab_link": true
    },
    "kernelspec": {
      "name": "python3",
      "display_name": "Python 3"
    },
    "language_info": {
      "name": "python"
    }
  },
  "cells": [
    {
      "cell_type": "markdown",
      "metadata": {
        "id": "view-in-github",
        "colab_type": "text"
      },
      "source": [
        "<a href=\"https://colab.research.google.com/github/rplop/estagio_docencia_ppgsis/blob/main/python_fundamentos_para_biologia.ipynb\" target=\"_parent\"><img src=\"https://colab.research.google.com/assets/colab-badge.svg\" alt=\"Open In Colab\"/></a>"
      ]
    },
    {
      "cell_type": "markdown",
      "source": [
        "# Lógica de programação\n",
        "* **Decomposição**: dividir o problema em partes menores e mais gerenciáveis;\n",
        "* **Padronização**: estabelecer regras e convenções que tornem o código mais legível e organizado;\n",
        "* **Abstração**: simplificar o problema, identificar os elementos essenciais e ocultar os detalhes desnecessários;\n",
        "* **Algoritmo**: sequência ordenada, finita e objetiva de instruções que leva, passo a passo, à resolução de um determinado problema ou tarefa;"
      ],
      "metadata": {
        "id": "G3l903rWIHJ4"
      }
    },
    {
      "cell_type": "markdown",
      "source": [
        "# Linguagem Python\n",
        "* Linguagem de alto nível;\n",
        "* Propósito geral;\n",
        "* Biblioteca padrão vasta e funcional;\n",
        "* Comunidade bastante ativa e colaborativa;\n",
        "\n",
        "[Site do Python](https://www.python.org/)\n",
        "\n",
        "[Manual em português](https://docs.python.org/pt-br/3/)\n"
      ],
      "metadata": {
        "id": "izFeYxH5tUc0"
      }
    },
    {
      "cell_type": "markdown",
      "source": [
        "# Google Colaboratory\n",
        "* Serviço em nuvem do Google;\n",
        "* Salvo no seu Drive;\n",
        "* Texto rico + código;\n",
        "* Células interativas;\n",
        "* `Ctrl`+`Enter` para executar a célula selecionada;\n",
        "\n",
        "[Sobre o Colab](https://colab.research.google.com/notebooks/intro.ipynb)"
      ],
      "metadata": {
        "id": "o2IEan7Bt4rL"
      }
    },
    {
      "cell_type": "markdown",
      "source": [
        "Testando o Colab...\n",
        "\n",
        "Vamos escrever nosso primeiro **programa**.\n",
        "\n",
        "Ele irá _exibir uma mensagem na tela_.\n",
        "\n",
        "Usaremos a função `print()`, nativa do Python."
      ],
      "metadata": {
        "id": "ses9SoHFCvxB"
      }
    },
    {
      "cell_type": "code",
      "source": [
        "print(\"Olá, mundo!\")"
      ],
      "metadata": {
        "colab": {
          "base_uri": "https://localhost:8080/"
        },
        "id": "UhLRuTU7Cq9E",
        "outputId": "feb872f6-a541-4c58-bfa4-e908b0c2e5ba"
      },
      "execution_count": null,
      "outputs": [
        {
          "output_type": "stream",
          "name": "stdout",
          "text": [
            "Olá, mundo!\n"
          ]
        }
      ]
    },
    {
      "cell_type": "code",
      "source": [
        "# Escreva aqui"
      ],
      "metadata": {
        "id": "HHcTUUltCz5R"
      },
      "execution_count": null,
      "outputs": []
    },
    {
      "cell_type": "markdown",
      "source": [
        "_Fazendo de outra maneira..._\n",
        "\n",
        "Podemos **criar uma variável** e atribuir a ela um valor.\n",
        "\n",
        "Ou seja, vamos **decompor** o problema, dividi-lo em **etapas menores**."
      ],
      "metadata": {
        "id": "JBixCzv4FYcM"
      }
    },
    {
      "cell_type": "code",
      "source": [
        "mensagem=\"Olá, mundo!\"\n",
        "print(mensagem)"
      ],
      "metadata": {
        "colab": {
          "base_uri": "https://localhost:8080/"
        },
        "id": "3AvMXpIoFpF8",
        "outputId": "7f0c21ec-8e78-4431-9d80-efe8a87c825e"
      },
      "execution_count": 1,
      "outputs": [
        {
          "output_type": "stream",
          "name": "stdout",
          "text": [
            "Olá, mundo!\n"
          ]
        }
      ]
    },
    {
      "cell_type": "code",
      "source": [
        "# Escreva aqui"
      ],
      "metadata": {
        "id": "F4z8HxS8Fw3C"
      },
      "execution_count": null,
      "outputs": []
    },
    {
      "cell_type": "markdown",
      "source": [
        "Mas o que são _variáveis_?"
      ],
      "metadata": {
        "id": "c7mhVldFHdMF"
      }
    },
    {
      "cell_type": "markdown",
      "source": [
        "# Variáveis e tipos de dados\n",
        "**Variável** é um elemento que armazena e retém uma informação (dado). Assim, podemos acessar essa informação a partir de um nome atribuído por nós.\n",
        "\n",
        "Existem vários tipos de valores que podem ser armazenados e referenciados por uma variável:\n",
        "* Números inteiros (int);\n",
        "* Números com casa decimal (float);\n",
        "* Texto (string): sempre resepresentado usando aspas;\n",
        "* Valores binários (boolean): True/False"
      ],
      "metadata": {
        "id": "jg6p5J1QHhVR"
      }
    },
    {
      "cell_type": "markdown",
      "source": [
        "Vamos criar uma variável a partir de uma **instrução**.\n",
        "\n",
        "Instruções são pedaços de código que executam um comando.\n"
      ],
      "metadata": {
        "id": "IxMKS9KWWo02"
      }
    },
    {
      "cell_type": "code",
      "source": [
        "x=3\n",
        "# x é um rótulo que eu escolhi arbitrariamente\n",
        "# = é um operador de atribuição\n",
        "# 3 é a informação que eu quero armazenar"
      ],
      "metadata": {
        "id": "0sHe4qkGXjSZ"
      },
      "execution_count": null,
      "outputs": []
    },
    {
      "cell_type": "markdown",
      "source": [
        "A função `type()` mostra o tipo de variável com o qual estamos trabalhando."
      ],
      "metadata": {
        "id": "0W8ue7rYYYTu"
      }
    },
    {
      "cell_type": "code",
      "source": [
        "print(x)\n",
        "type(x)"
      ],
      "metadata": {
        "colab": {
          "base_uri": "https://localhost:8080/"
        },
        "id": "OvREqU64YDQ4",
        "outputId": "025acb4d-5e79-49f1-d3ee-675eeaa9a587"
      },
      "execution_count": null,
      "outputs": [
        {
          "output_type": "stream",
          "name": "stdout",
          "text": [
            "3\n"
          ]
        },
        {
          "output_type": "execute_result",
          "data": {
            "text/plain": [
              "int"
            ]
          },
          "metadata": {},
          "execution_count": 8
        }
      ]
    },
    {
      "cell_type": "code",
      "source": [
        "texto=\"Isso é uma string\"\n",
        "print(texto)\n",
        "type(texto)"
      ],
      "metadata": {
        "colab": {
          "base_uri": "https://localhost:8080/"
        },
        "id": "48gPp7qSYj3O",
        "outputId": "7b98e01d-da9d-43dc-f8ba-2c97e0093fba"
      },
      "execution_count": null,
      "outputs": [
        {
          "output_type": "stream",
          "name": "stdout",
          "text": [
            "Isso é uma string\n"
          ]
        },
        {
          "output_type": "execute_result",
          "data": {
            "text/plain": [
              "str"
            ]
          },
          "metadata": {},
          "execution_count": 13
        }
      ]
    },
    {
      "cell_type": "markdown",
      "source": [
        "Podemos reatribuir o valor de uma variável a qualquer momento."
      ],
      "metadata": {
        "id": "e_2tGXAoYeUy"
      }
    },
    {
      "cell_type": "code",
      "source": [
        "x=4\n",
        "print(x)"
      ],
      "metadata": {
        "colab": {
          "base_uri": "https://localhost:8080/"
        },
        "id": "SPYj4vJ0YPsV",
        "outputId": "37c72232-140e-4cad-c91c-bb97053369bf"
      },
      "execution_count": null,
      "outputs": [
        {
          "output_type": "stream",
          "name": "stdout",
          "text": [
            "4\n"
          ]
        }
      ]
    },
    {
      "cell_type": "markdown",
      "source": [
        "**Strings** são sequências de caracteres, declaradas entre aspas simples ou duplas.\n",
        "\n",
        "Podemos declarar uma *sequência de DNA* como uma string em Python."
      ],
      "metadata": {
        "id": "RztrtGWPsxEA"
      }
    },
    {
      "cell_type": "code",
      "source": [
        "dnaSeq = \"actggatctcgatgattgagtcattggatac\""
      ],
      "metadata": {
        "id": "-8WVfgs5tYd5"
      },
      "execution_count": 44,
      "outputs": []
    },
    {
      "cell_type": "markdown",
      "source": [
        "**Operações básicas com strings**\n",
        "\n",
        "Podemos utilizar **métodos** para realizar operações com as nossas strings. Existe uma sintaxe específica para isso."
      ],
      "metadata": {
        "id": "S2aKvt0GuymV"
      }
    },
    {
      "cell_type": "code",
      "source": [
        "dnaSeq = dnaSeq.upper()\n",
        "print(dnaSeq)\n",
        "\n",
        "# Neste código, mudamos o valor da variável dnaSeq usando o método upper()\n",
        "# O ponto indica que o método upper() deve atuar na variável dnaSeq\n",
        "# Em seguida, exibimos o novo valor da variável\n"
      ],
      "metadata": {
        "colab": {
          "base_uri": "https://localhost:8080/"
        },
        "id": "dCdY7p7DvL7E",
        "outputId": "7b144c78-18d0-4729-b79b-47d9f0cd22fb"
      },
      "execution_count": 45,
      "outputs": [
        {
          "output_type": "stream",
          "name": "stdout",
          "text": [
            "ACTGGATCTCGATGATTGAGTCATTGGATAC\n"
          ]
        }
      ]
    },
    {
      "cell_type": "markdown",
      "source": [
        "Mais detalhes sobre *strings* [documentação oficial do Python](https://docs.python.org/pt-br/3/tutorial/introduction.html#strings)."
      ],
      "metadata": {
        "id": "S5RfdLH4VpKY"
      }
    },
    {
      "cell_type": "markdown",
      "source": [
        "**Int** e **Float** são tipos de dados númericos.\n",
        "\n",
        "Operações em Python respeitam as regras algébricas."
      ],
      "metadata": {
        "id": "qwGu4MOJUHca"
      }
    },
    {
      "cell_type": "code",
      "source": [
        "# Adição\n",
        "print(1+2)\n",
        "\n",
        "# Subtração\n",
        "print(6-2)\n",
        "\n",
        "# Multiplicação\n",
        "print(2*4)\n",
        "\n",
        "# Divisão\n",
        "print(8/2)"
      ],
      "metadata": {
        "colab": {
          "base_uri": "https://localhost:8080/"
        },
        "id": "uRIhhP9hUPaL",
        "outputId": "7c086e45-94b9-4d3e-8f2c-87af4c37438d"
      },
      "execution_count": 2,
      "outputs": [
        {
          "output_type": "stream",
          "name": "stdout",
          "text": [
            "3\n",
            "4\n",
            "8\n",
            "4.0\n"
          ]
        }
      ]
    },
    {
      "cell_type": "markdown",
      "source": [
        "Mais detalhes sobre *dados númericos* na [documentação oficial do Python](https://docs.python.org/pt-br/3/tutorial/introduction.html#numbers)."
      ],
      "metadata": {
        "id": "Xm3TVyWeVnee"
      }
    },
    {
      "cell_type": "markdown",
      "source": [
        "# Listas\n",
        "\n",
        "**Listas** são coleções ordenadas de itens.\n",
        "\n",
        "Elas permitem o armazenamento de várias informações.\n",
        "\n",
        "No Python, indicamos que um objeto é uma lista usando `[]` (colchetes).\n",
        "\n"
      ],
      "metadata": {
        "id": "pgVLfNeRU_3f"
      }
    },
    {
      "cell_type": "markdown",
      "source": [
        "Vamos criar uma lista contendo os **nucleotídeos presentes no DNA**.\n",
        "\n",
        "No nosso código, vamos representar os nucleotídeos pela **bases nitrogenadas** associada."
      ],
      "metadata": {
        "id": "8mWjVTyIXJPF"
      }
    },
    {
      "cell_type": "code",
      "source": [
        "# Escreva aqui"
      ],
      "metadata": {
        "id": "V9mGQEfCXRMp"
      },
      "execution_count": 4,
      "outputs": []
    },
    {
      "cell_type": "markdown",
      "source": [
        "Podemos acessar os elementos de uma lista, informando o **índice** (posição) deles."
      ],
      "metadata": {
        "id": "PUBDum0IGAhQ"
      }
    },
    {
      "cell_type": "code",
      "source": [
        "# Mude o valor dentro dos colchetes e execute a célula novamente\n",
        "print(nucleotideos[0])"
      ],
      "metadata": {
        "colab": {
          "base_uri": "https://localhost:8080/"
        },
        "id": "KfDSGPFnF_1X",
        "outputId": "143c97ce-3773-454e-e02f-34bd158a6dc9"
      },
      "execution_count": 10,
      "outputs": [
        {
          "output_type": "stream",
          "name": "stdout",
          "text": [
            "A\n"
          ]
        }
      ]
    },
    {
      "cell_type": "markdown",
      "source": [
        "Mais detalhes sobre *listas* na [documentação oficial do Python](https://docs.python.org/pt-br/3/tutorial/introduction.html#lists)."
      ],
      "metadata": {
        "id": "-kNzVrvSYZtP"
      }
    },
    {
      "cell_type": "markdown",
      "source": [
        "# Dicionários\n",
        "\n",
        "**Dicionários** são estruturas de dados no formato *chave:valor*.\n",
        "\n",
        "Criamos dicionários utilizando `{}` (chaves).\n",
        "\n",
        "O valor pode ser um número, uma string, uma lista ou até mesmo outro dicionário."
      ],
      "metadata": {
        "id": "11ppK6FgZNWw"
      }
    },
    {
      "cell_type": "code",
      "source": [
        "# Exemplo\n",
        "dict_elefante = {\"scientific_name\":\"Loxodonta africana\",\n",
        "                \"phylum\":\"CHORDATA\",\n",
        "                \"class\":\"MAMMALIA\",\n",
        "                \"order\":\"PROBOSCIDEA\",\n",
        "                \"family\":\"ELEPHANTIDAE\",\n",
        "                \"genus\":\"Loxodonta\",\n",
        "                \"main_common_name\":\"African Savanna Elephant\"}"
      ],
      "metadata": {
        "id": "n4fjcJ8hbcSZ"
      },
      "execution_count": 18,
      "outputs": []
    },
    {
      "cell_type": "markdown",
      "source": [
        "Vamos criar um dicionário com as **bases complementares do DNA**."
      ],
      "metadata": {
        "id": "EBaffCkCbG3V"
      }
    },
    {
      "cell_type": "code",
      "source": [
        "# Escreva aqui"
      ],
      "metadata": {
        "id": "s6oeMSRybEzJ"
      },
      "execution_count": null,
      "outputs": []
    },
    {
      "cell_type": "markdown",
      "source": [
        "Mais detalhes sobre *dicionários* na [documentação oficial do Python](https://docs.python.org/pt-br/3/tutorial/datastructures.html#dictionaries)."
      ],
      "metadata": {
        "id": "5Agi4OZLe269"
      }
    },
    {
      "cell_type": "markdown",
      "source": [
        "# Laços de repetição\n",
        "\n",
        "Ao escrever programas é comum que precisemos executar o mesmo comando *várias vezes*.\n",
        "\n",
        "O que fazer? Escrever as mesmas linhas de código repetidas vezes?"
      ],
      "metadata": {
        "id": "xUNVjw0MfVZc"
      }
    },
    {
      "cell_type": "code",
      "source": [
        "print(nucleotideos[0])\n",
        "print(nucleotideos[1])\n",
        "print(nucleotideos[2])\n",
        "print(nucleotideos[3])"
      ],
      "metadata": {
        "id": "keYj_uNOiqn4",
        "colab": {
          "base_uri": "https://localhost:8080/"
        },
        "outputId": "9febdb18-2fe1-4fae-9b5b-dab78910b6c6"
      },
      "execution_count": null,
      "outputs": [
        {
          "output_type": "stream",
          "name": "stdout",
          "text": [
            "A\n",
            "C\n",
            "G\n",
            "T\n"
          ]
        }
      ]
    },
    {
      "cell_type": "markdown",
      "source": [
        "Um método mais otimizado e eficiente utiliza **loops** ou **laços de repetição**."
      ],
      "metadata": {
        "id": "gAtaIglJjB8G"
      }
    },
    {
      "cell_type": "code",
      "source": [
        "# Exemplo utilizando o loop for\n",
        "for i in nucleotideos:\n",
        "  print(i)"
      ],
      "metadata": {
        "id": "ZFf_d04Pjnwf",
        "colab": {
          "base_uri": "https://localhost:8080/"
        },
        "outputId": "dccfc408-81f8-4c62-8013-21801541b6e8"
      },
      "execution_count": 11,
      "outputs": [
        {
          "output_type": "stream",
          "name": "stdout",
          "text": [
            "A\n",
            "C\n",
            "G\n",
            "T\n"
          ]
        }
      ]
    },
    {
      "cell_type": "markdown",
      "source": [
        "O laço `for` nos permite percorrer *um a um* os itens de uma lista."
      ],
      "metadata": {
        "id": "YJ5sbDOpkBNz"
      }
    },
    {
      "cell_type": "code",
      "source": [
        "# Retomando nossa sequência de DNA\n",
        "print(dnaSeq)"
      ],
      "metadata": {
        "colab": {
          "base_uri": "https://localhost:8080/"
        },
        "id": "16NXEAE7kdZS",
        "outputId": "6394e43a-fe6c-4214-bb17-4bfe10fa3b36"
      },
      "execution_count": 38,
      "outputs": [
        {
          "output_type": "stream",
          "name": "stdout",
          "text": [
            "ACTGGATCTCGATGATTGAGTCATTGGATGC\n"
          ]
        }
      ]
    },
    {
      "cell_type": "markdown",
      "source": [
        "Vamos escrever um código que printe **todos os nucleotídeos dessa sequência**, um por vez."
      ],
      "metadata": {
        "id": "XhqE253NlS8N"
      }
    },
    {
      "cell_type": "code",
      "source": [
        "# Escreva aqui"
      ],
      "metadata": {
        "id": "fZk12LdPkny_"
      },
      "execution_count": 26,
      "outputs": []
    },
    {
      "cell_type": "markdown",
      "source": [
        "Podemos usar o loop for para realizar operações com os itens da lista."
      ],
      "metadata": {
        "id": "SBl-kLNhl3HA"
      }
    },
    {
      "cell_type": "markdown",
      "source": [
        "# Estruturas condicionais\n",
        "\n",
        "Programas precisam tomar decisões...\n",
        "\n",
        "As **estruturas condicionais** são a maneira como um programa pode tomar uma decisão a partir da observação de um conjunto de condições.\n",
        "\n",
        "As instrução `if` e `else` são usadas em Python para testar condições."
      ],
      "metadata": {
        "id": "TDEEm_QZnCJZ"
      }
    },
    {
      "cell_type": "code",
      "source": [
        "# Retomando nossa sequência de DNA\n",
        "print(dnaSeq)"
      ],
      "metadata": {
        "colab": {
          "base_uri": "https://localhost:8080/"
        },
        "id": "-e7lp4wMp32E",
        "outputId": "01eddb7c-6cee-4624-fabc-aa92ca6ec5ce"
      },
      "execution_count": 49,
      "outputs": [
        {
          "output_type": "stream",
          "name": "stdout",
          "text": [
            "ACTGGATCTCGATGATTGAGTCATTGGATAC\n"
          ]
        }
      ]
    },
    {
      "cell_type": "code",
      "source": [
        "if dnaSeq.endswith(\"TAC\"):\n",
        "  print(\"Sim! A sequência termina com TAC.\")\n",
        "else:\n",
        "  print(\"Não! A sequência não termina com o códon TAC.\")"
      ],
      "metadata": {
        "colab": {
          "base_uri": "https://localhost:8080/"
        },
        "id": "KDJc1FNZpk33",
        "outputId": "0f85b930-6c72-4a86-b40f-f2dd73471390"
      },
      "execution_count": 46,
      "outputs": [
        {
          "output_type": "stream",
          "name": "stdout",
          "text": [
            "Sim! A sequência termina com TAC.\n"
          ]
        }
      ]
    },
    {
      "cell_type": "code",
      "source": [
        "dnaSeq2 = \"CCCTGA\""
      ],
      "metadata": {
        "id": "PEwV6zgXSKys"
      },
      "execution_count": 62,
      "outputs": []
    },
    {
      "cell_type": "code",
      "source": [
        "\n",
        "if dnaSeq2.endswith(\"TAC\"):\n",
        "  print(\"Sim! A sequência termina com o códon TAC.\")\n",
        "else:\n",
        "  print(\"Não! A sequência não termina com o códon TAC.\")"
      ],
      "metadata": {
        "colab": {
          "base_uri": "https://localhost:8080/"
        },
        "id": "xBmUx7YnOPGR",
        "outputId": "0c328b30-7caa-4e57-dad8-7453ef847fde"
      },
      "execution_count": 59,
      "outputs": [
        {
          "output_type": "stream",
          "name": "stdout",
          "text": [
            "Não! A sequência não termina com o códon TAC.\n"
          ]
        }
      ]
    },
    {
      "cell_type": "markdown",
      "source": [
        "Testando condições númericas..."
      ],
      "metadata": {
        "id": "3SVQkl-XRnAU"
      }
    },
    {
      "cell_type": "code",
      "source": [
        "tamanho_seq = len(dnaSeq)\n",
        "\n",
        "if tamanho_seq > 10:\n",
        "  print(\"A sequência tem mais de 10 nucleotídeos.\")\n",
        "else:\n",
        "  print(\"A sequência tem menos de 10 nucleotídeos.\")"
      ],
      "metadata": {
        "colab": {
          "base_uri": "https://localhost:8080/"
        },
        "id": "WWyjIqahquBS",
        "outputId": "56467562-247a-4708-e5c8-e7b60babb8e0"
      },
      "execution_count": 56,
      "outputs": [
        {
          "output_type": "stream",
          "name": "stdout",
          "text": [
            "A sequência tem mais de 10 nucleotídeos.\n"
          ]
        }
      ]
    },
    {
      "cell_type": "markdown",
      "source": [
        "Testando para a sequência 2..."
      ],
      "metadata": {
        "id": "UxmSYXWKSUI5"
      }
    },
    {
      "cell_type": "code",
      "source": [
        "tamanho_seq2 = len(dnaSeq2)\n",
        "\n",
        "if tamanho_seq2 > 10:\n",
        "  print(\"A sequência tem mais de 10 nucleotídeos.\")\n",
        "else:\n",
        "  print(\"A sequência tem menos de 10 nucleotídeos.\")"
      ],
      "metadata": {
        "colab": {
          "base_uri": "https://localhost:8080/"
        },
        "id": "NjTHKOyiSWOw",
        "outputId": "ea52698b-4801-4374-de32-903caec36e9c"
      },
      "execution_count": 64,
      "outputs": [
        {
          "output_type": "stream",
          "name": "stdout",
          "text": [
            "A sequência tem menos de 10 nucleotídeos.\n"
          ]
        }
      ]
    },
    {
      "cell_type": "markdown",
      "source": [
        "Obs: ao declarar uma condição `if`, sempre devemos usar `:` (dois pontos) ao final.\n",
        "\n",
        "Obs2: as estruturas condicionais requerem a **indentação** do blocos de código."
      ],
      "metadata": {
        "id": "I6XKldOJrTqb"
      }
    },
    {
      "cell_type": "markdown",
      "source": [
        "# Desafio\n",
        "\n",
        "Vamos representar a estrutura do DNA em um código e criar um conjunto de ferramentas para fazer manipulações básicas com sequências de DNA.\n",
        "\n",
        "**Quais são as etapas?**"
      ],
      "metadata": {
        "id": "i65xksW4te8y"
      }
    }
  ]
}